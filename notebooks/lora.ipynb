{
 "cells": [
  {
   "cell_type": "markdown",
   "id": "7d2533ac",
   "metadata": {},
   "source": [
    "# Imports"
   ]
  },
  {
   "cell_type": "code",
   "execution_count": 1,
   "id": "06a61c01",
   "metadata": {},
   "outputs": [
    {
     "name": "stderr",
     "output_type": "stream",
     "text": [
      "/home/panos/dev/hf_seg/.venv/lib/python3.10/site-packages/tqdm/auto.py:21: TqdmWarning: IProgress not found. Please update jupyter and ipywidgets. See https://ipywidgets.readthedocs.io/en/stable/user_install.html\n",
      "  from .autonotebook import tqdm as notebook_tqdm\n"
     ]
    }
   ],
   "source": [
    "import sys\n",
    "from copy import deepcopy\n",
    "import cv2\n",
    "import wandb\n",
    "from pathlib import Path\n",
    "import torch\n",
    "import torch.nn as nn\n",
    "import torch.nn.functional as F\n",
    "import torch.optim as optim\n",
    "from torch.utils.data import DataLoader\n",
    "from torchmetrics import JaccardIndex\n",
    "from peft import LoraConfig, get_peft_model, TaskType\n",
    "from tqdm import tqdm\n",
    "import albumentations as A\n",
    "from hydra import initialize, compose"
   ]
  },
  {
   "cell_type": "code",
   "execution_count": 2,
   "id": "f7115fbf",
   "metadata": {},
   "outputs": [
    {
     "name": "stdout",
     "output_type": "stream",
     "text": [
      "Using device: cuda\n",
      "Using device: cuda\n"
     ]
    }
   ],
   "source": [
    "# Add the project root directory to the Python path\n",
    "cur_dir     = Path.cwd()\n",
    "project_dir = cur_dir.parent\n",
    "sys.path.append(str(project_dir))\n",
    "\n",
    "from models.tools import CombinedLoss\n",
    "from models.DinoFPNbn import DinoFPN\n",
    "from src.validate import evaluate_model\n",
    "from src.train import train_and_validate\n",
    "from data.mastr1325.dataset import MaritimeDataset\n",
    "from utils.others import save_checkpoint, load_checkpoint, get_memory_footprint\n",
    "from data.kitti360.labels_kitti360 import trainId2label, NUM_CLASSES\n",
    "from utils.visualization import plot_image_and_masks\n",
    "from utils.others import save_checkpoint, load_checkpoint"
   ]
  },
  {
   "cell_type": "code",
   "execution_count": 3,
   "id": "6d03f3cb",
   "metadata": {},
   "outputs": [
    {
     "name": "stdout",
     "output_type": "stream",
     "text": [
      "Using device: cuda\n"
     ]
    }
   ],
   "source": [
    "device = torch.device('cuda' if torch.cuda.is_available() else 'cpu')\n",
    "print(f\"Using device: {device}\")"
   ]
  },
  {
   "cell_type": "code",
   "execution_count": 4,
   "id": "8f3e6085",
   "metadata": {},
   "outputs": [],
   "source": [
    "with initialize(version_base=None, config_path=f\"../configs\", job_name=\"train_and_log\"):\n",
    "    cfg = compose(config_name=\"lora_config\")"
   ]
  },
  {
   "cell_type": "markdown",
   "id": "bd4e742d",
   "metadata": {},
   "source": [
    "# Dataloaders"
   ]
  },
  {
   "cell_type": "code",
   "execution_count": 5,
   "id": "8c5390b4",
   "metadata": {},
   "outputs": [],
   "source": [
    "crop_size = (cfg.augmentation.crop_height, cfg.augmentation.crop_width)\n",
    "train_transform = A.Compose([\n",
    "    # -- Geometric --\n",
    "    A.RandomCrop(height=crop_size[0], width=crop_size[1], p=1.0), # preserve scale/context\n",
    "    A.Affine(\n",
    "        # translate_percent={\"x\": (-0.05, 0.05), \"y\": (-0.05, 0.05)}, # ±5% shift\n",
    "        scale=(0.8, 1.0),                                           # zoom between 0.8×–1.0×\n",
    "        rotate=(-3, 3),                                             # ±3° roll\n",
    "        interpolation=cv2.INTER_LINEAR,\n",
    "        mask_interpolation=cv2.INTER_NEAREST,\n",
    "        border_mode=cv2.BORDER_CONSTANT,\n",
    "        fill=255,\n",
    "        fill_mask=255,\n",
    "        p=0.7\n",
    "    ),\n",
    "    A.Perspective(scale=(0.01, 0.03), p=0.5),  # tiny camera viewpoint warp\n",
    "\n",
    "    # -- Photometric --\n",
    "    A.RandomBrightnessContrast(brightness_limit=0.15, contrast_limit=0.15, p=0.5),\n",
    "    A.RandomGamma(gamma_limit=(90, 110), p=0.5),\n",
    "    A.OneOf([\n",
    "        A.RandomFog(fog_coef_range=(0.05, 0.2), p=1.0),\n",
    "        A.RandomShadow(shadow_roi=(0, 0.5, 1, 1), num_shadows_limit=(1, 2), p=1.0),\n",
    "        A.RandomSunFlare(src_radius=50, p=1.0)\n",
    "    ], p=0.5),\n",
    "\n",
    "    # -- Occlusions --\n",
    "    A.CoarseDropout(num_holes_range=(1, 4), \n",
    "                    hole_height_range=(5, 30), \n",
    "                    hole_width_range=(5, 30), \n",
    "                    p=0.5),                                # random occlusion\n",
    "\n",
    "    # — Blur & noise: motion, sensor, compression —\n",
    "    A.OneOf([\n",
    "        A.MotionBlur(blur_limit=5, p=0.4),\n",
    "        A.GaussianBlur(blur_limit=(3,5), p=0.3),\n",
    "        A.MedianBlur(blur_limit=3, p=0.2),\n",
    "    ], p=0.5),\n",
    "    A.GaussNoise(\n",
    "        std_range=(10.0/255.0, 50.0/255.0),\n",
    "        mean_range=(0.0, 0.0),\n",
    "        p=0.5\n",
    "    )\n",
    "])\n",
    "\n",
    "# Define deterministic transforms for validation\n",
    "val_transform = A.Compose([\n",
    "    A.CenterCrop(height=crop_size[0], width=crop_size[1])\n",
    "])"
   ]
  },
  {
   "cell_type": "code",
   "execution_count": 6,
   "id": "55bd0b01",
   "metadata": {},
   "outputs": [
    {
     "name": "stdout",
     "output_type": "stream",
     "text": [
      "Train dataset size: 1060\n",
      "Validation dataset size: 265\n"
     ]
    }
   ],
   "source": [
    "# Dataset and DataLoader\n",
    "train_dataset = MaritimeDataset(cfg.dataset.root, train=True, transform=train_transform)\n",
    "train_loader = DataLoader(train_dataset, batch_size=cfg.train.batch_size, \n",
    "                            shuffle=True, num_workers=cfg.dataset.num_workers, pin_memory=True)\n",
    "val_dataset = MaritimeDataset(cfg.dataset.root, train=False, transform=val_transform)\n",
    "val_loader = DataLoader(val_dataset, batch_size=cfg.train.batch_size,\n",
    "                        shuffle=False, num_workers=cfg.dataset.num_workers, pin_memory=True)\n",
    "print(f\"Train dataset size: {len(train_dataset)}\")\n",
    "print(f\"Validation dataset size: {len(val_dataset)}\")"
   ]
  },
  {
   "cell_type": "markdown",
   "id": "a55086a2",
   "metadata": {},
   "source": [
    "# Base model"
   ]
  },
  {
   "cell_type": "code",
   "execution_count": 7,
   "id": "4ec18707",
   "metadata": {},
   "outputs": [
    {
     "name": "stdout",
     "output_type": "stream",
     "text": [
      "=== Model Memory Footprint ===\n",
      "Backbone: 86,580,480 params, 330.28 MB\n",
      "Head:     3,740,164 params, 14.27 MB\n",
      "Total:    90,320,644 params, 344.55 MB\n"
     ]
    },
    {
     "data": {
      "text/plain": [
       "(90320644, 361282576)"
      ]
     },
     "execution_count": 7,
     "metadata": {},
     "output_type": "execute_result"
    }
   ],
   "source": [
    "model = DinoFPN(\n",
    "    cfg.dataset.num_classes, \n",
    "    cfg.model\n",
    ")\n",
    "get_memory_footprint(model, detailed=True)"
   ]
  },
  {
   "cell_type": "code",
   "execution_count": 8,
   "id": "4498fa9c",
   "metadata": {},
   "outputs": [],
   "source": [
    "# model"
   ]
  },
  {
   "cell_type": "markdown",
   "id": "dc21f35d",
   "metadata": {},
   "source": [
    "# Lora"
   ]
  },
  {
   "cell_type": "code",
   "execution_count": 9,
   "id": "387b02e3",
   "metadata": {},
   "outputs": [
    {
     "name": "stdout",
     "output_type": "stream",
     "text": [
      "trainable params: 720,928 || all params: 91,041,572 || trainable%: 0.7919\n"
     ]
    }
   ],
   "source": [
    "target_modules=['head.projs.0', 'head.projs.1', 'head.classifier']\n",
    "# Auto-detect Linear and Conv2d layers\n",
    "target_modules = []\n",
    "for name, module in model.named_modules():\n",
    "    if isinstance(module, (nn.Linear, nn.Conv2d)):\n",
    "        if any(target in name for target in ['head', 'attention', 'query', 'key', 'value']):\n",
    "            target_modules.append(name)\n",
    "\n",
    "lora_config = LoraConfig(\n",
    "    task_type=TaskType.FEATURE_EXTRACTION,  # For vision tasks\n",
    "    r=cfg.lora.rank,           \n",
    "    lora_alpha=cfg.lora.alpha, \n",
    "    lora_dropout=cfg.lora.dropout, \n",
    "    target_modules=target_modules,\n",
    "    bias=\"none\",               # Don't adapt bias\n",
    "    use_rslora=False,          # Use standard LoRA\n",
    ")\n",
    "\n",
    "# Apply LoRA to model\n",
    "lora_model = get_peft_model(model, lora_config)\n",
    "\n",
    "# Print trainable parameters\n",
    "lora_model.print_trainable_parameters()"
   ]
  },
  {
   "cell_type": "code",
   "execution_count": 10,
   "id": "91efd192",
   "metadata": {},
   "outputs": [
    {
     "name": "stdout",
     "output_type": "stream",
     "text": [
      "=== Model Memory Footprint ===\n",
      "Backbone: 87,170,304 params, 332.53 MB\n",
      "Head:     3,871,268 params, 14.77 MB\n",
      "Total:    91,041,572 params, 347.30 MB\n"
     ]
    },
    {
     "data": {
      "text/plain": [
       "(91041572, 364166288)"
      ]
     },
     "execution_count": 10,
     "metadata": {},
     "output_type": "execute_result"
    }
   ],
   "source": [
    "get_memory_footprint(lora_model, detailed=True)"
   ]
  },
  {
   "cell_type": "code",
   "execution_count": 11,
   "id": "171aa9b9",
   "metadata": {},
   "outputs": [
    {
     "data": {
      "text/plain": [
       "PeftModelForFeatureExtraction(\n",
       "  (base_model): LoraModel(\n",
       "    (model): DinoFPN(\n",
       "      (backbone): Dinov2Model(\n",
       "        (embeddings): Dinov2Embeddings(\n",
       "          (patch_embeddings): Dinov2PatchEmbeddings(\n",
       "            (projection): Conv2d(3, 768, kernel_size=(14, 14), stride=(14, 14))\n",
       "          )\n",
       "          (dropout): Dropout(p=0.0, inplace=False)\n",
       "        )\n",
       "        (encoder): Dinov2Encoder(\n",
       "          (layer): ModuleList(\n",
       "            (0-11): 12 x Dinov2Layer(\n",
       "              (norm1): LayerNorm((768,), eps=1e-06, elementwise_affine=True)\n",
       "              (attention): Dinov2Attention(\n",
       "                (attention): Dinov2SelfAttention(\n",
       "                  (query): lora.Linear(\n",
       "                    (base_layer): Linear(in_features=768, out_features=768, bias=True)\n",
       "                    (lora_dropout): ModuleDict(\n",
       "                      (default): Dropout(p=0.1, inplace=False)\n",
       "                    )\n",
       "                    (lora_A): ModuleDict(\n",
       "                      (default): Linear(in_features=768, out_features=8, bias=False)\n",
       "                    )\n",
       "                    (lora_B): ModuleDict(\n",
       "                      (default): Linear(in_features=8, out_features=768, bias=False)\n",
       "                    )\n",
       "                    (lora_embedding_A): ParameterDict()\n",
       "                    (lora_embedding_B): ParameterDict()\n",
       "                    (lora_magnitude_vector): ModuleDict()\n",
       "                  )\n",
       "                  (key): lora.Linear(\n",
       "                    (base_layer): Linear(in_features=768, out_features=768, bias=True)\n",
       "                    (lora_dropout): ModuleDict(\n",
       "                      (default): Dropout(p=0.1, inplace=False)\n",
       "                    )\n",
       "                    (lora_A): ModuleDict(\n",
       "                      (default): Linear(in_features=768, out_features=8, bias=False)\n",
       "                    )\n",
       "                    (lora_B): ModuleDict(\n",
       "                      (default): Linear(in_features=8, out_features=768, bias=False)\n",
       "                    )\n",
       "                    (lora_embedding_A): ParameterDict()\n",
       "                    (lora_embedding_B): ParameterDict()\n",
       "                    (lora_magnitude_vector): ModuleDict()\n",
       "                  )\n",
       "                  (value): lora.Linear(\n",
       "                    (base_layer): Linear(in_features=768, out_features=768, bias=True)\n",
       "                    (lora_dropout): ModuleDict(\n",
       "                      (default): Dropout(p=0.1, inplace=False)\n",
       "                    )\n",
       "                    (lora_A): ModuleDict(\n",
       "                      (default): Linear(in_features=768, out_features=8, bias=False)\n",
       "                    )\n",
       "                    (lora_B): ModuleDict(\n",
       "                      (default): Linear(in_features=8, out_features=768, bias=False)\n",
       "                    )\n",
       "                    (lora_embedding_A): ParameterDict()\n",
       "                    (lora_embedding_B): ParameterDict()\n",
       "                    (lora_magnitude_vector): ModuleDict()\n",
       "                  )\n",
       "                )\n",
       "                (output): Dinov2SelfOutput(\n",
       "                  (dense): lora.Linear(\n",
       "                    (base_layer): Linear(in_features=768, out_features=768, bias=True)\n",
       "                    (lora_dropout): ModuleDict(\n",
       "                      (default): Dropout(p=0.1, inplace=False)\n",
       "                    )\n",
       "                    (lora_A): ModuleDict(\n",
       "                      (default): Linear(in_features=768, out_features=8, bias=False)\n",
       "                    )\n",
       "                    (lora_B): ModuleDict(\n",
       "                      (default): Linear(in_features=8, out_features=768, bias=False)\n",
       "                    )\n",
       "                    (lora_embedding_A): ParameterDict()\n",
       "                    (lora_embedding_B): ParameterDict()\n",
       "                    (lora_magnitude_vector): ModuleDict()\n",
       "                  )\n",
       "                  (dropout): Dropout(p=0.0, inplace=False)\n",
       "                )\n",
       "              )\n",
       "              (layer_scale1): Dinov2LayerScale()\n",
       "              (drop_path): Identity()\n",
       "              (norm2): LayerNorm((768,), eps=1e-06, elementwise_affine=True)\n",
       "              (mlp): Dinov2MLP(\n",
       "                (fc1): Linear(in_features=768, out_features=3072, bias=True)\n",
       "                (activation): GELUActivation()\n",
       "                (fc2): Linear(in_features=3072, out_features=768, bias=True)\n",
       "              )\n",
       "              (layer_scale2): Dinov2LayerScale()\n",
       "            )\n",
       "          )\n",
       "        )\n",
       "        (layernorm): LayerNorm((768,), eps=1e-06, elementwise_affine=True)\n",
       "      )\n",
       "      (head): FPNHead(\n",
       "        (projs): ModuleList(\n",
       "          (0-3): 4 x Sequential(\n",
       "            (0): lora.Conv2d(\n",
       "              (base_layer): Conv2d(768, 256, kernel_size=(1, 1), stride=(1, 1), bias=False)\n",
       "              (lora_dropout): ModuleDict(\n",
       "                (default): Dropout(p=0.1, inplace=False)\n",
       "              )\n",
       "              (lora_A): ModuleDict(\n",
       "                (default): Conv2d(768, 8, kernel_size=(1, 1), stride=(1, 1), bias=False)\n",
       "              )\n",
       "              (lora_B): ModuleDict(\n",
       "                (default): Conv2d(8, 256, kernel_size=(1, 1), stride=(1, 1), bias=False)\n",
       "              )\n",
       "              (lora_embedding_A): ParameterDict()\n",
       "              (lora_embedding_B): ParameterDict()\n",
       "              (lora_magnitude_vector): ModuleDict()\n",
       "            )\n",
       "            (1): BatchNorm2d(256, eps=1e-05, momentum=0.1, affine=True, track_running_stats=True)\n",
       "            (2): ReLU(inplace=True)\n",
       "            (3): Dropout2d(p=0.1, inplace=False)\n",
       "          )\n",
       "        )\n",
       "        (fuse): Sequential(\n",
       "          (0): lora.Conv2d(\n",
       "            (base_layer): Conv2d(1024, 256, kernel_size=(3, 3), stride=(1, 1), padding=(1, 1))\n",
       "            (lora_dropout): ModuleDict(\n",
       "              (default): Dropout(p=0.1, inplace=False)\n",
       "            )\n",
       "            (lora_A): ModuleDict(\n",
       "              (default): Conv2d(1024, 8, kernel_size=(3, 3), stride=(1, 1), padding=(1, 1), bias=False)\n",
       "            )\n",
       "            (lora_B): ModuleDict(\n",
       "              (default): Conv2d(8, 256, kernel_size=(1, 1), stride=(1, 1), bias=False)\n",
       "            )\n",
       "            (lora_embedding_A): ParameterDict()\n",
       "            (lora_embedding_B): ParameterDict()\n",
       "            (lora_magnitude_vector): ModuleDict()\n",
       "          )\n",
       "          (1): BatchNorm2d(256, eps=1e-05, momentum=0.1, affine=True, track_running_stats=True)\n",
       "          (2): ReLU(inplace=True)\n",
       "          (3): Dropout2d(p=0.1, inplace=False)\n",
       "        )\n",
       "        (classifier): Sequential(\n",
       "          (0): lora.Conv2d(\n",
       "            (base_layer): Conv2d(256, 256, kernel_size=(3, 3), stride=(1, 1), padding=(1, 1))\n",
       "            (lora_dropout): ModuleDict(\n",
       "              (default): Dropout(p=0.1, inplace=False)\n",
       "            )\n",
       "            (lora_A): ModuleDict(\n",
       "              (default): Conv2d(256, 8, kernel_size=(3, 3), stride=(1, 1), padding=(1, 1), bias=False)\n",
       "            )\n",
       "            (lora_B): ModuleDict(\n",
       "              (default): Conv2d(8, 256, kernel_size=(1, 1), stride=(1, 1), bias=False)\n",
       "            )\n",
       "            (lora_embedding_A): ParameterDict()\n",
       "            (lora_embedding_B): ParameterDict()\n",
       "            (lora_magnitude_vector): ModuleDict()\n",
       "          )\n",
       "          (1): BatchNorm2d(256, eps=1e-05, momentum=0.1, affine=True, track_running_stats=True)\n",
       "          (2): ReLU(inplace=True)\n",
       "          (3): Dropout2d(p=0.1, inplace=False)\n",
       "          (4): lora.Conv2d(\n",
       "            (base_layer): Conv2d(256, 4, kernel_size=(1, 1), stride=(1, 1))\n",
       "            (lora_dropout): ModuleDict(\n",
       "              (default): Dropout(p=0.1, inplace=False)\n",
       "            )\n",
       "            (lora_A): ModuleDict(\n",
       "              (default): Conv2d(256, 8, kernel_size=(1, 1), stride=(1, 1), bias=False)\n",
       "            )\n",
       "            (lora_B): ModuleDict(\n",
       "              (default): Conv2d(8, 4, kernel_size=(1, 1), stride=(1, 1), bias=False)\n",
       "            )\n",
       "            (lora_embedding_A): ParameterDict()\n",
       "            (lora_embedding_B): ParameterDict()\n",
       "            (lora_magnitude_vector): ModuleDict()\n",
       "          )\n",
       "        )\n",
       "      )\n",
       "    )\n",
       "  )\n",
       ")"
      ]
     },
     "execution_count": 11,
     "metadata": {},
     "output_type": "execute_result"
    }
   ],
   "source": [
    "lora_model"
   ]
  },
  {
   "cell_type": "code",
   "execution_count": null,
   "id": "4e016b7c",
   "metadata": {},
   "outputs": [],
   "source": []
  },
  {
   "cell_type": "markdown",
   "id": "a2ee58f0",
   "metadata": {},
   "source": []
  }
 ],
 "metadata": {
  "kernelspec": {
   "display_name": ".venv",
   "language": "python",
   "name": "python3"
  },
  "language_info": {
   "codemirror_mode": {
    "name": "ipython",
    "version": 3
   },
   "file_extension": ".py",
   "mimetype": "text/x-python",
   "name": "python",
   "nbconvert_exporter": "python",
   "pygments_lexer": "ipython3",
   "version": "3.10.12"
  }
 },
 "nbformat": 4,
 "nbformat_minor": 5
}
