{
 "cells": [
  {
   "cell_type": "code",
   "execution_count": 1,
   "id": "8b6c6711",
   "metadata": {},
   "outputs": [
    {
     "name": "stderr",
     "output_type": "stream",
     "text": [
      "/home/panos/dev/hf_seg/.venv/lib/python3.10/site-packages/tqdm/auto.py:21: TqdmWarning: IProgress not found. Please update jupyter and ipywidgets. See https://ipywidgets.readthedocs.io/en/stable/user_install.html\n",
      "  from .autonotebook import tqdm as notebook_tqdm\n"
     ]
    }
   ],
   "source": [
    "import os\n",
    "import sys\n",
    "from pathlib import Path\n",
    "\n",
    "from tqdm import tqdm\n",
    "import torch\n",
    "from torch.utils.data import DataLoader\n",
    "from torchmetrics import JaccardIndex\n",
    "from torch.quantization import quantize_dynamic\n",
    "\n",
    "from hydra import compose, initialize"
   ]
  },
  {
   "cell_type": "code",
   "execution_count": 2,
   "id": "d1c6bea4",
   "metadata": {},
   "outputs": [
    {
     "data": {
      "text/plain": [
       "'Achieves 79.1% mIoU on the KITTI-360 validation set.'"
      ]
     },
     "execution_count": 2,
     "metadata": {},
     "output_type": "execute_result"
    }
   ],
   "source": [
    "\"\"\"Achieves 79.1% mIoU on the KITTI-360 validation set.\"\"\""
   ]
  },
  {
   "cell_type": "code",
   "execution_count": 6,
   "id": "5417c277",
   "metadata": {},
   "outputs": [
    {
     "name": "stdout",
     "output_type": "stream",
     "text": [
      "Adding project directory to sys.path: /home/panos/dev/hf_seg\n"
     ]
    }
   ],
   "source": [
    "# Add the project root directory to the Python path\n",
    "cur_dir     = Path.cwd()\n",
    "project_dir = cur_dir.parent\n",
    "print(f\"Adding project directory to sys.path: {project_dir}\")\n",
    "sys.path.append(str(project_dir))\n",
    "\n",
    "from models.DinoFPNbn import DinoFPN\n",
    "from data.dataset import KittiSemSegDataset\n",
    "from utils.others import get_memory_footprint, get_quant_memory_footprint"
   ]
  },
  {
   "cell_type": "code",
   "execution_count": 4,
   "id": "4a1ad8f7",
   "metadata": {},
   "outputs": [],
   "source": [
    "with initialize(version_base=None, config_path=f\"../configs\", job_name=\"inference_metrics\"):\n",
    "    cfg = compose(config_name=\"config\")"
   ]
  },
  {
   "cell_type": "code",
   "execution_count": 5,
   "id": "b72a5a9b",
   "metadata": {},
   "outputs": [
    {
     "name": "stdout",
     "output_type": "stream",
     "text": [
      "Loaded original model from /home/panos/dev/hf_seg/checkpoints/dino-fpn-bn.pth\n",
      "Created quantized version of the model (INT8 dynamic).\n"
     ]
    }
   ],
   "source": [
    "# Dataset + DataLoader\n",
    "dataset_root = '/home/panos/Documents/data/kitti-360'\n",
    "val_dataset = KittiSemSegDataset(dataset_root, train=False, transform=None)\n",
    "val_loader  = DataLoader(val_dataset,\n",
    "                            batch_size=cfg.train.batch_size,\n",
    "                            shuffle=False,\n",
    "                            num_workers=cfg.dataset.num_workers,\n",
    "                            pin_memory=True)\n",
    "\n",
    "# Initialize original model & load checkpoint\n",
    "model = DinoFPN(num_labels=cfg.dataset.num_classes, model_cfg=cfg.model)\n",
    "checkpoint_path = project_dir / f\"checkpoints/{cfg.checkpoint.model_name}.pth\"\n",
    "checkpoint = torch.load(checkpoint_path)\n",
    "model.load_state_dict(checkpoint[\"model_state_dict\"])\n",
    "model.eval()\n",
    "print(f\"Loaded original model from {checkpoint_path}\")\n",
    "\n",
    "# Create quantized model (dynamic quantization)\n",
    "qmodel = quantize_dynamic(\n",
    "    model,\n",
    "    {torch.nn.Linear, torch.nn.Conv2d},\n",
    "    dtype=torch.qint8,\n",
    "    inplace=False\n",
    ")\n",
    "qmodel.eval()\n",
    "print(\"Created quantized version of the model (INT8 dynamic).\")\n",
    "\n",
    "# Prepare mIoU metric\n",
    "miou_metric = JaccardIndex(\n",
    "    task='multiclass',\n",
    "    num_classes=cfg.dataset.num_classes,\n",
    "    average='micro',\n",
    "    ignore_index=None\n",
    ")"
   ]
  },
  {
   "cell_type": "code",
   "execution_count": 16,
   "id": "de9cddfc",
   "metadata": {},
   "outputs": [
    {
     "name": "stderr",
     "output_type": "stream",
     "text": [
      "100%|██████████| 66/66 [29:26<00:00, 26.76s/it]"
     ]
    },
    {
     "name": "stdout",
     "output_type": "stream",
     "text": [
      "\n",
      "  Val mIoU: 0.7911\n"
     ]
    },
    {
     "name": "stderr",
     "output_type": "stream",
     "text": [
      "\n"
     ]
    }
   ],
   "source": [
    "with torch.no_grad():\n",
    "    for batch_idx, (imgs, masks) in enumerate(tqdm(val_loader)):\n",
    "        imgs = imgs.permute(0, 3, 1, 2)  # [B, H, W, C] -> [B, C, H, W]\n",
    "        input = model.process(imgs)\n",
    "\n",
    "        # forward + loss\n",
    "        logits = model(input)\n",
    "        cls_map = None\n",
    "\n",
    "        # compute IoU on this batch\n",
    "        preds = torch.argmax(logits, dim=1)  # [B, H, W]\n",
    "        miou_metric.update(preds, masks)\n",
    "\n",
    "    avg_val_miou = miou_metric.compute().item()\n",
    "\n",
    "print(f\"\\n  Val mIoU: {avg_val_miou:.4f}\")"
   ]
  },
  {
   "cell_type": "code",
   "execution_count": null,
   "id": "48e55e5e",
   "metadata": {},
   "outputs": [],
   "source": []
  }
 ],
 "metadata": {
  "kernelspec": {
   "display_name": ".venv",
   "language": "python",
   "name": "python3"
  },
  "language_info": {
   "codemirror_mode": {
    "name": "ipython",
    "version": 3
   },
   "file_extension": ".py",
   "mimetype": "text/x-python",
   "name": "python",
   "nbconvert_exporter": "python",
   "pygments_lexer": "ipython3",
   "version": "3.10.12"
  }
 },
 "nbformat": 4,
 "nbformat_minor": 5
}
